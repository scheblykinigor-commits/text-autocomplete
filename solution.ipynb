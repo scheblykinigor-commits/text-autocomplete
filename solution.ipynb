{
 "cells": [
  {
   "cell_type": "code",
   "execution_count": 2,
   "id": "57b37c88",
   "metadata": {},
   "outputs": [
    {
     "name": "stdout",
     "output_type": "stream",
     "text": [
      "Этап 1: Подготовка данных\n",
      "Dataset prepared:\n",
      "Train: 1248676 samples\n",
      "Validation: 156085 samples\n",
      "Test: 156085 samples\n",
      "Этап 2: Обучение модели LSTM\n"
     ]
    },
    {
     "name": "stderr",
     "output_type": "stream",
     "text": [
      "Epoch 1/10: 100%|██████████| 4331/4331 [02:11<00:00, 32.87it/s, loss=5.2697]\n",
      "Evaluating LSTM: 100%|██████████| 544/544 [01:56<00:00,  4.68it/s]\n"
     ]
    },
    {
     "name": "stdout",
     "output_type": "stream",
     "text": [
      "Epoch 1:\n",
      "  Train Loss: 5.6814\n",
      "  Val ROUGE-1: 0.0754\n",
      "  Val ROUGE-2: 0.0021\n",
      "  Example predictions:\n",
      "    Input: a missed reason late that\n",
      "    Pred: isn t a funny teacher like me but now its\n",
      "    Target: na bright little a seeing from them night 1 my\n",
      "\n",
      "    Input: missed reason late that tough\n",
      "    Pred: i slept into not come in them in an cd\n",
      "    Target: bright little a seeing from them night 1 my coffee\n",
      "\n"
     ]
    },
    {
     "name": "stderr",
     "output_type": "stream",
     "text": [
      "Epoch 2/10: 100%|██████████| 4331/4331 [02:15<00:00, 32.00it/s, loss=5.0800]\n",
      "Evaluating LSTM: 100%|██████████| 544/544 [01:56<00:00,  4.68it/s]\n"
     ]
    },
    {
     "name": "stdout",
     "output_type": "stream",
     "text": [
      "Epoch 2:\n",
      "  Train Loss: 5.1643\n",
      "  Val ROUGE-1: 0.0773\n",
      "  Val ROUGE-2: 0.0021\n",
      "  Example predictions:\n",
      "    Input: a missed reason late that\n",
      "    Pred: to my best works due to my hair i ve\n",
      "    Target: na bright little a seeing from them night 1 my\n",
      "\n",
      "    Input: missed reason late that tough\n",
      "    Pred: too no i ll be the coz of the mail\n",
      "    Target: bright little a seeing from them night 1 my coffee\n",
      "\n"
     ]
    },
    {
     "name": "stderr",
     "output_type": "stream",
     "text": [
      "Epoch 3/10: 100%|██████████| 4331/4331 [02:12<00:00, 32.60it/s, loss=4.9050]\n",
      "Evaluating LSTM: 100%|██████████| 544/544 [01:56<00:00,  4.67it/s]\n"
     ]
    },
    {
     "name": "stdout",
     "output_type": "stream",
     "text": [
      "Epoch 3:\n",
      "  Train Loss: 4.9838\n",
      "  Val ROUGE-1: 0.0787\n",
      "  Val ROUGE-2: 0.0022\n",
      "  Example predictions:\n",
      "    Input: a missed reason late that\n",
      "    Pred: i feel like my hood amp yay they ll show\n",
      "    Target: na bright little a seeing from them night 1 my\n",
      "\n",
      "    Input: missed reason late that tough\n",
      "    Pred: one want to go well while i can fall away\n",
      "    Target: bright little a seeing from them night 1 my coffee\n",
      "\n"
     ]
    },
    {
     "name": "stderr",
     "output_type": "stream",
     "text": [
      "Epoch 4/10: 100%|██████████| 4331/4331 [02:12<00:00, 32.72it/s, loss=4.9258]\n",
      "Evaluating LSTM: 100%|██████████| 544/544 [01:56<00:00,  4.67it/s]\n"
     ]
    },
    {
     "name": "stdout",
     "output_type": "stream",
     "text": [
      "Epoch 4:\n",
      "  Train Loss: 4.8869\n",
      "  Val ROUGE-1: 0.0766\n",
      "  Val ROUGE-2: 0.0021\n",
      "  Example predictions:\n",
      "    Input: a missed reason late that\n",
      "    Pred: doesn t make the back in good here on saturday\n",
      "    Target: na bright little a seeing from them night 1 my\n",
      "\n",
      "    Input: missed reason late that tough\n",
      "    Pred: year amp finding my result into tummy check help back\n",
      "    Target: bright little a seeing from them night 1 my coffee\n",
      "\n"
     ]
    },
    {
     "name": "stderr",
     "output_type": "stream",
     "text": [
      "Epoch 5/10: 100%|██████████| 4331/4331 [02:13<00:00, 32.55it/s, loss=4.7980]\n",
      "Evaluating LSTM: 100%|██████████| 544/544 [01:56<00:00,  4.68it/s]\n"
     ]
    },
    {
     "name": "stdout",
     "output_type": "stream",
     "text": [
      "Epoch 5:\n",
      "  Train Loss: 4.8279\n",
      "  Val ROUGE-1: 0.0778\n",
      "  Val ROUGE-2: 0.0021\n",
      "  Example predictions:\n",
      "    Input: a missed reason late that\n",
      "    Pred: s that i guess it turned back always easier to\n",
      "    Target: na bright little a seeing from them night 1 my\n",
      "\n",
      "    Input: missed reason late that tough\n",
      "    Pred: stalk me tonight it was a blast and it makes\n",
      "    Target: bright little a seeing from them night 1 my coffee\n",
      "\n"
     ]
    },
    {
     "name": "stderr",
     "output_type": "stream",
     "text": [
      "Epoch 6/10: 100%|██████████| 4331/4331 [02:15<00:00, 31.94it/s, loss=4.8082]\n",
      "Evaluating LSTM: 100%|██████████| 544/544 [01:56<00:00,  4.68it/s]\n"
     ]
    },
    {
     "name": "stdout",
     "output_type": "stream",
     "text": [
      "Epoch 6:\n",
      "  Train Loss: 4.7869\n",
      "  Val ROUGE-1: 0.0771\n",
      "  Val ROUGE-2: 0.0022\n",
      "  Example predictions:\n",
      "    Input: a missed reason late that\n",
      "    Pred: not great man don t feel about late <unk> btw\n",
      "    Target: na bright little a seeing from them night 1 my\n",
      "\n",
      "    Input: missed reason late that tough\n",
      "    Pred: man gon na be the same soon on us it\n",
      "    Target: bright little a seeing from them night 1 my coffee\n",
      "\n"
     ]
    },
    {
     "name": "stderr",
     "output_type": "stream",
     "text": [
      "Epoch 7/10: 100%|██████████| 4331/4331 [02:13<00:00, 32.41it/s, loss=4.7964]\n",
      "Evaluating LSTM: 100%|██████████| 544/544 [01:56<00:00,  4.65it/s]\n"
     ]
    },
    {
     "name": "stdout",
     "output_type": "stream",
     "text": [
      "Epoch 7:\n",
      "  Train Loss: 4.7563\n",
      "  Val ROUGE-1: 0.0781\n",
      "  Val ROUGE-2: 0.0020\n",
      "  Example predictions:\n",
      "    Input: a missed reason late that\n",
      "    Pred: <unk> romance but what questions else has the money to\n",
      "    Target: na bright little a seeing from them night 1 my\n",
      "\n",
      "    Input: missed reason late that tough\n",
      "    Pred: thing probably can have my energy <unk> yes i cant\n",
      "    Target: bright little a seeing from them night 1 my coffee\n",
      "\n"
     ]
    },
    {
     "name": "stderr",
     "output_type": "stream",
     "text": [
      "Epoch 8/10: 100%|██████████| 4331/4331 [02:12<00:00, 32.61it/s, loss=4.7192]\n",
      "Evaluating LSTM: 100%|██████████| 544/544 [01:56<00:00,  4.65it/s]\n"
     ]
    },
    {
     "name": "stdout",
     "output_type": "stream",
     "text": [
      "Epoch 8:\n",
      "  Train Loss: 4.7319\n",
      "  Val ROUGE-1: 0.0792\n",
      "  Val ROUGE-2: 0.0021\n",
      "  Example predictions:\n",
      "    Input: a missed reason late that\n",
      "    Pred: can t wait to see the tennis hack video i\n",
      "    Target: na bright little a seeing from them night 1 my\n",
      "\n",
      "    Input: missed reason late that tough\n",
      "    Pred: absolutely mellow a good day out sleep love serious <unk>\n",
      "    Target: bright little a seeing from them night 1 my coffee\n",
      "\n"
     ]
    },
    {
     "name": "stderr",
     "output_type": "stream",
     "text": [
      "Epoch 9/10: 100%|██████████| 4331/4331 [02:13<00:00, 32.55it/s, loss=4.6987]\n",
      "Evaluating LSTM: 100%|██████████| 544/544 [01:57<00:00,  4.64it/s]\n"
     ]
    },
    {
     "name": "stdout",
     "output_type": "stream",
     "text": [
      "Epoch 9:\n",
      "  Train Loss: 4.7123\n",
      "  Val ROUGE-1: 0.0779\n",
      "  Val ROUGE-2: 0.0019\n",
      "  Example predictions:\n",
      "    Input: a missed reason late that\n",
      "    Pred: he won t be attending all we re going downtown\n",
      "    Target: na bright little a seeing from them night 1 my\n",
      "\n",
      "    Input: missed reason late that tough\n",
      "    Pred: chance we re waiting for the warm bank cup i\n",
      "    Target: bright little a seeing from them night 1 my coffee\n",
      "\n"
     ]
    },
    {
     "name": "stderr",
     "output_type": "stream",
     "text": [
      "Epoch 10/10: 100%|██████████| 4331/4331 [02:12<00:00, 32.66it/s, loss=4.6508]\n",
      "Evaluating LSTM: 100%|██████████| 544/544 [01:55<00:00,  4.69it/s]\n"
     ]
    },
    {
     "name": "stdout",
     "output_type": "stream",
     "text": [
      "Epoch 10:\n",
      "  Train Loss: 4.6960\n",
      "  Val ROUGE-1: 0.0781\n",
      "  Val ROUGE-2: 0.0020\n",
      "  Example predictions:\n",
      "    Input: a missed reason late that\n",
      "    Pred: is my favorite movie ever at least they dnt <unk>\n",
      "    Target: na bright little a seeing from them night 1 my\n",
      "\n",
      "    Input: missed reason late that tough\n",
      "    Pred: let me know that bd we re sick as my\n",
      "    Target: bright little a seeing from them night 1 my coffee\n",
      "\n"
     ]
    },
    {
     "data": {
      "image/png": "[encoded data removed]",
      "text/plain": [
       "<Figure size 1200x400 with 2 Axes>"
      ]
     },
     "metadata": {},
     "output_type": "display_data"
    },
    {
     "name": "stdout",
     "output_type": "stream",
     "text": [
      "Этап 3: Оценка модели LST\n"
     ]
    },
    {
     "name": "stderr",
     "output_type": "stream",
     "text": [
      "Evaluating LSTM: 100%|██████████| 541/541 [01:54<00:00,  4.71it/s]\n"
     ]
    },
    {
     "name": "stdout",
     "output_type": "stream",
     "text": [
      "LSTM Test Results:\n",
      "ROUGE-1: 0.0777\n",
      "ROUGE-2: 0.0019\n",
      "Этап 4: Оценка модели Transformer\n"
     ]
    },
    {
     "name": "stderr",
     "output_type": "stream",
     "text": [
      "Device set to use cuda:0\n",
      "Evaluating Transformer:   0%|          | 0/100 [00:00<?, ?it/s]Truncation was not explicitly activated but `max_length` is provided a specific value, please use `truncation=True` to explicitly truncate examples to max length. Defaulting to 'longest_first' truncation strategy. If you encode pairs of sequences (GLUE-style) with the tokenizer you can select this strategy more precisely by providing a specific strategy to `truncation`.\n",
      "Setting `pad_token_id` to `eos_token_id`:50256 for open-end generation.\n",
      "Both `max_new_tokens` (=256) and `max_length`(=12) seem to have been set. `max_new_tokens` will take precedence. Please refer to the documentation for more information. (https://huggingface.co/docs/transformers/main/en/main_classes/text_generation)\n",
      "Evaluating Transformer:   1%|          | 1/100 [00:01<01:56,  1.18s/it]Setting `pad_token_id` to `eos_token_id`:50256 for open-end generation.\n",
      "Both `max_new_tokens` (=256) and `max_length`(=21) seem to have been set. `max_new_tokens` will take precedence. Please refer to the documentation for more information. (https://huggingface.co/docs/transformers/main/en/main_classes/text_generation)\n",
      "Evaluating Transformer:   3%|▎         | 3/100 [00:02<01:26,  1.12it/s]Setting `pad_token_id` to `eos_token_id`:50256 for open-end generation.\n",
      "Both `max_new_tokens` (=256) and `max_length`(=18) seem to have been set. `max_new_tokens` will take precedence. Please refer to the documentation for more information. (https://huggingface.co/docs/transformers/main/en/main_classes/text_generation)\n",
      "Evaluating Transformer:   4%|▍         | 4/100 [00:04<01:46,  1.11s/it]Setting `pad_token_id` to `eos_token_id`:50256 for open-end generation.\n",
      "Both `max_new_tokens` (=256) and `max_length`(=23) seem to have been set. `max_new_tokens` will take precedence. Please refer to the documentation for more information. (https://huggingface.co/docs/transformers/main/en/main_classes/text_generation)\n",
      "Evaluating Transformer:   5%|▌         | 5/100 [00:05<01:58,  1.25s/it]Setting `pad_token_id` to `eos_token_id`:50256 for open-end generation.\n",
      "Both `max_new_tokens` (=256) and `max_length`(=16) seem to have been set. `max_new_tokens` will take precedence. Please refer to the documentation for more information. (https://huggingface.co/docs/transformers/main/en/main_classes/text_generation)\n",
      "Evaluating Transformer:   8%|▊         | 8/100 [00:06<01:05,  1.40it/s]Setting `pad_token_id` to `eos_token_id`:50256 for open-end generation.\n",
      "Both `max_new_tokens` (=256) and `max_length`(=21) seem to have been set. `max_new_tokens` will take precedence. Please refer to the documentation for more information. (https://huggingface.co/docs/transformers/main/en/main_classes/text_generation)\n",
      "Evaluating Transformer:   9%|▉         | 9/100 [00:08<01:21,  1.12it/s]Setting `pad_token_id` to `eos_token_id`:50256 for open-end generation.\n",
      "Both `max_new_tokens` (=256) and `max_length`(=25) seem to have been set. `max_new_tokens` will take precedence. Please refer to the documentation for more information. (https://huggingface.co/docs/transformers/main/en/main_classes/text_generation)\n",
      "Evaluating Transformer:  10%|█         | 10/100 [00:09<01:34,  1.05s/it]Setting `pad_token_id` to `eos_token_id`:50256 for open-end generation.\n",
      "Both `max_new_tokens` (=256) and `max_length`(=13) seem to have been set. `max_new_tokens` will take precedence. Please refer to the documentation for more information. (https://huggingface.co/docs/transformers/main/en/main_classes/text_generation)\n",
      "Evaluating Transformer:  11%|█         | 11/100 [00:11<01:36,  1.09s/it]Setting `pad_token_id` to `eos_token_id`:50256 for open-end generation.\n",
      "Both `max_new_tokens` (=256) and `max_length`(=28) seem to have been set. `max_new_tokens` will take precedence. Please refer to the documentation for more information. (https://huggingface.co/docs/transformers/main/en/main_classes/text_generation)\n",
      "Evaluating Transformer:  12%|█▏        | 12/100 [00:12<01:45,  1.20s/it]Setting `pad_token_id` to `eos_token_id`:50256 for open-end generation.\n",
      "Both `max_new_tokens` (=256) and `max_length`(=11) seem to have been set. `max_new_tokens` will take precedence. Please refer to the documentation for more information. (https://huggingface.co/docs/transformers/main/en/main_classes/text_generation)\n",
      "Evaluating Transformer:  13%|█▎        | 13/100 [00:14<01:52,  1.29s/it]You seem to be using the pipelines sequentially on GPU. In order to maximize efficiency please use a dataset\n",
      "Setting `pad_token_id` to `eos_token_id`:50256 for open-end generation.\n",
      "Both `max_new_tokens` (=256) and `max_length`(=28) seem to have been set. `max_new_tokens` will take precedence. Please refer to the documentation for more information. (https://huggingface.co/docs/transformers/main/en/main_classes/text_generation)\n",
      "Evaluating Transformer:  16%|█▌        | 16/100 [00:14<00:51,  1.62it/s]Setting `pad_token_id` to `eos_token_id`:50256 for open-end generation.\n",
      "Both `max_new_tokens` (=256) and `max_length`(=28) seem to have been set. `max_new_tokens` will take precedence. Please refer to the documentation for more information. (https://huggingface.co/docs/transformers/main/en/main_classes/text_generation)\n",
      "Evaluating Transformer:  17%|█▋        | 17/100 [00:15<01:06,  1.24it/s]Setting `pad_token_id` to `eos_token_id`:50256 for open-end generation.\n",
      "Both `max_new_tokens` (=256) and `max_length`(=12) seem to have been set. `max_new_tokens` will take precedence. Please refer to the documentation for more information. (https://huggingface.co/docs/transformers/main/en/main_classes/text_generation)\n",
      "Evaluating Transformer:  18%|█▊        | 18/100 [00:17<01:19,  1.03it/s]Setting `pad_token_id` to `eos_token_id`:50256 for open-end generation.\n",
      "Both `max_new_tokens` (=256) and `max_length`(=29) seem to have been set. `max_new_tokens` will take precedence. Please refer to the documentation for more information. (https://huggingface.co/docs/transformers/main/en/main_classes/text_generation)\n",
      "Evaluating Transformer:  19%|█▉        | 19/100 [00:18<01:29,  1.11s/it]Setting `pad_token_id` to `eos_token_id`:50256 for open-end generation.\n",
      "Both `max_new_tokens` (=256) and `max_length`(=11) seem to have been set. `max_new_tokens` will take precedence. Please refer to the documentation for more information. (https://huggingface.co/docs/transformers/main/en/main_classes/text_generation)\n",
      "Evaluating Transformer:  20%|██        | 20/100 [00:20<01:37,  1.21s/it]Setting `pad_token_id` to `eos_token_id`:50256 for open-end generation.\n",
      "Both `max_new_tokens` (=256) and `max_length`(=22) seem to have been set. `max_new_tokens` will take precedence. Please refer to the documentation for more information. (https://huggingface.co/docs/transformers/main/en/main_classes/text_generation)\n",
      "Evaluating Transformer:  22%|██▏       | 22/100 [00:21<01:19,  1.02s/it]Setting `pad_token_id` to `eos_token_id`:50256 for open-end generation.\n",
      "Both `max_new_tokens` (=256) and `max_length`(=18) seem to have been set. `max_new_tokens` will take precedence. Please refer to the documentation for more information. (https://huggingface.co/docs/transformers/main/en/main_classes/text_generation)\n",
      "Evaluating Transformer:  24%|██▍       | 24/100 [00:23<01:10,  1.08it/s]Setting `pad_token_id` to `eos_token_id`:50256 for open-end generation.\n",
      "Both `max_new_tokens` (=256) and `max_length`(=29) seem to have been set. `max_new_tokens` will take precedence. Please refer to the documentation for more information. (https://huggingface.co/docs/transformers/main/en/main_classes/text_generation)\n",
      "Evaluating Transformer:  26%|██▌       | 26/100 [00:24<01:04,  1.15it/s]Setting `pad_token_id` to `eos_token_id`:50256 for open-end generation.\n",
      "Both `max_new_tokens` (=256) and `max_length`(=23) seem to have been set. `max_new_tokens` will take precedence. Please refer to the documentation for more information. (https://huggingface.co/docs/transformers/main/en/main_classes/text_generation)\n",
      "Evaluating Transformer:  27%|██▋       | 27/100 [00:25<01:01,  1.19it/s]Setting `pad_token_id` to `eos_token_id`:50256 for open-end generation.\n",
      "Both `max_new_tokens` (=256) and `max_length`(=30) seem to have been set. `max_new_tokens` will take precedence. Please refer to the documentation for more information. (https://huggingface.co/docs/transformers/main/en/main_classes/text_generation)\n",
      "Evaluating Transformer:  29%|██▉       | 29/100 [00:27<00:57,  1.23it/s]Setting `pad_token_id` to `eos_token_id`:50256 for open-end generation.\n",
      "Both `max_new_tokens` (=256) and `max_length`(=18) seem to have been set. `max_new_tokens` will take precedence. Please refer to the documentation for more information. (https://huggingface.co/docs/transformers/main/en/main_classes/text_generation)\n",
      "Evaluating Transformer:  30%|███       | 30/100 [00:28<01:07,  1.04it/s]Setting `pad_token_id` to `eos_token_id`:50256 for open-end generation.\n",
      "Both `max_new_tokens` (=256) and `max_length`(=15) seem to have been set. `max_new_tokens` will take precedence. Please refer to the documentation for more information. (https://huggingface.co/docs/transformers/main/en/main_classes/text_generation)\n",
      "Evaluating Transformer:  31%|███       | 31/100 [00:29<00:56,  1.22it/s]Setting `pad_token_id` to `eos_token_id`:50256 for open-end generation.\n",
      "Both `max_new_tokens` (=256) and `max_length`(=18) seem to have been set. `max_new_tokens` will take precedence. Please refer to the documentation for more information. (https://huggingface.co/docs/transformers/main/en/main_classes/text_generation)\n",
      "Evaluating Transformer:  32%|███▏      | 32/100 [00:30<01:08,  1.01s/it]Setting `pad_token_id` to `eos_token_id`:50256 for open-end generation.\n",
      "Both `max_new_tokens` (=256) and `max_length`(=14) seem to have been set. `max_new_tokens` will take precedence. Please refer to the documentation for more information. (https://huggingface.co/docs/transformers/main/en/main_classes/text_generation)\n",
      "Evaluating Transformer:  33%|███▎      | 33/100 [00:31<01:05,  1.02it/s]Setting `pad_token_id` to `eos_token_id`:50256 for open-end generation.\n",
      "Both `max_new_tokens` (=256) and `max_length`(=19) seem to have been set. `max_new_tokens` will take precedence. Please refer to the documentation for more information. (https://huggingface.co/docs/transformers/main/en/main_classes/text_generation)\n",
      "Evaluating Transformer:  34%|███▍      | 34/100 [00:33<01:14,  1.13s/it]Setting `pad_token_id` to `eos_token_id`:50256 for open-end generation.\n",
      "Both `max_new_tokens` (=256) and `max_length`(=18) seem to have been set. `max_new_tokens` will take precedence. Please refer to the documentation for more information. (https://huggingface.co/docs/transformers/main/en/main_classes/text_generation)\n",
      "Evaluating Transformer:  36%|███▌      | 36/100 [00:33<00:42,  1.49it/s]Setting `pad_token_id` to `eos_token_id`:50256 for open-end generation.\n",
      "Both `max_new_tokens` (=256) and `max_length`(=30) seem to have been set. `max_new_tokens` will take precedence. Please refer to the documentation for more information. (https://huggingface.co/docs/transformers/main/en/main_classes/text_generation)\n",
      "Evaluating Transformer:  37%|███▋      | 37/100 [00:34<00:55,  1.14it/s]Setting `pad_token_id` to `eos_token_id`:50256 for open-end generation.\n",
      "Both `max_new_tokens` (=256) and `max_length`(=12) seem to have been set. `max_new_tokens` will take precedence. Please refer to the documentation for more information. (https://huggingface.co/docs/transformers/main/en/main_classes/text_generation)\n",
      "Evaluating Transformer:  39%|███▉      | 39/100 [00:36<00:50,  1.21it/s]Setting `pad_token_id` to `eos_token_id`:50256 for open-end generation.\n",
      "Both `max_new_tokens` (=256) and `max_length`(=14) seem to have been set. `max_new_tokens` will take precedence. Please refer to the documentation for more information. (https://huggingface.co/docs/transformers/main/en/main_classes/text_generation)\n",
      "Evaluating Transformer:  40%|████      | 40/100 [00:37<00:58,  1.03it/s]Setting `pad_token_id` to `eos_token_id`:50256 for open-end generation.\n",
      "Both `max_new_tokens` (=256) and `max_length`(=15) seem to have been set. `max_new_tokens` will take precedence. Please refer to the documentation for more information. (https://huggingface.co/docs/transformers/main/en/main_classes/text_generation)\n",
      "Evaluating Transformer:  41%|████      | 41/100 [00:39<01:04,  1.10s/it]Setting `pad_token_id` to `eos_token_id`:50256 for open-end generation.\n",
      "Both `max_new_tokens` (=256) and `max_length`(=27) seem to have been set. `max_new_tokens` will take precedence. Please refer to the documentation for more information. (https://huggingface.co/docs/transformers/main/en/main_classes/text_generation)\n",
      "Evaluating Transformer:  43%|████▎     | 43/100 [00:40<00:54,  1.04it/s]Setting `pad_token_id` to `eos_token_id`:50256 for open-end generation.\n",
      "Both `max_new_tokens` (=256) and `max_length`(=25) seem to have been set. `max_new_tokens` will take precedence. Please refer to the documentation for more information. (https://huggingface.co/docs/transformers/main/en/main_classes/text_generation)\n",
      "Evaluating Transformer:  45%|████▌     | 45/100 [00:41<00:38,  1.42it/s]Setting `pad_token_id` to `eos_token_id`:50256 for open-end generation.\n",
      "Both `max_new_tokens` (=256) and `max_length`(=14) seem to have been set. `max_new_tokens` will take precedence. Please refer to the documentation for more information. (https://huggingface.co/docs/transformers/main/en/main_classes/text_generation)\n",
      "Setting `pad_token_id` to `eos_token_id`:50256 for open-end generation.\n",
      "Both `max_new_tokens` (=256) and `max_length`(=24) seem to have been set. `max_new_tokens` will take precedence. Please refer to the documentation for more information. (https://huggingface.co/docs/transformers/main/en/main_classes/text_generation)\n",
      "Evaluating Transformer:  47%|████▋     | 47/100 [00:42<00:38,  1.37it/s]Setting `pad_token_id` to `eos_token_id`:50256 for open-end generation.\n",
      "Both `max_new_tokens` (=256) and `max_length`(=24) seem to have been set. `max_new_tokens` will take precedence. Please refer to the documentation for more information. (https://huggingface.co/docs/transformers/main/en/main_classes/text_generation)\n",
      "Evaluating Transformer:  49%|████▉     | 49/100 [00:44<00:37,  1.36it/s]Setting `pad_token_id` to `eos_token_id`:50256 for open-end generation.\n",
      "Both `max_new_tokens` (=256) and `max_length`(=18) seem to have been set. `max_new_tokens` will take precedence. Please refer to the documentation for more information. (https://huggingface.co/docs/transformers/main/en/main_classes/text_generation)\n",
      "Evaluating Transformer:  51%|█████     | 51/100 [00:45<00:36,  1.34it/s]Setting `pad_token_id` to `eos_token_id`:50256 for open-end generation.\n",
      "Both `max_new_tokens` (=256) and `max_length`(=14) seem to have been set. `max_new_tokens` will take precedence. Please refer to the documentation for more information. (https://huggingface.co/docs/transformers/main/en/main_classes/text_generation)\n",
      "Setting `pad_token_id` to `eos_token_id`:50256 for open-end generation.\n",
      "Both `max_new_tokens` (=256) and `max_length`(=14) seem to have been set. `max_new_tokens` will take precedence. Please refer to the documentation for more information. (https://huggingface.co/docs/transformers/main/en/main_classes/text_generation)\n",
      "Evaluating Transformer:  53%|█████▎    | 53/100 [00:47<00:35,  1.33it/s]Setting `pad_token_id` to `eos_token_id`:50256 for open-end generation.\n",
      "Both `max_new_tokens` (=256) and `max_length`(=19) seem to have been set. `max_new_tokens` will take precedence. Please refer to the documentation for more information. (https://huggingface.co/docs/transformers/main/en/main_classes/text_generation)\n",
      "Evaluating Transformer:  56%|█████▌    | 56/100 [00:48<00:28,  1.54it/s]Setting `pad_token_id` to `eos_token_id`:50256 for open-end generation.\n",
      "Both `max_new_tokens` (=256) and `max_length`(=15) seem to have been set. `max_new_tokens` will take precedence. Please refer to the documentation for more information. (https://huggingface.co/docs/transformers/main/en/main_classes/text_generation)\n",
      "Evaluating Transformer:  59%|█████▉    | 59/100 [00:50<00:24,  1.67it/s]Setting `pad_token_id` to `eos_token_id`:50256 for open-end generation.\n",
      "Both `max_new_tokens` (=256) and `max_length`(=19) seem to have been set. `max_new_tokens` will take precedence. Please refer to the documentation for more information. (https://huggingface.co/docs/transformers/main/en/main_classes/text_generation)\n",
      "Evaluating Transformer:  60%|██████    | 60/100 [00:52<00:29,  1.36it/s]Setting `pad_token_id` to `eos_token_id`:50256 for open-end generation.\n",
      "Both `max_new_tokens` (=256) and `max_length`(=23) seem to have been set. `max_new_tokens` will take precedence. Please refer to the documentation for more information. (https://huggingface.co/docs/transformers/main/en/main_classes/text_generation)\n",
      "Setting `pad_token_id` to `eos_token_id`:50256 for open-end generation.\n",
      "Both `max_new_tokens` (=256) and `max_length`(=26) seem to have been set. `max_new_tokens` will take precedence. Please refer to the documentation for more information. (https://huggingface.co/docs/transformers/main/en/main_classes/text_generation)\n",
      "Evaluating Transformer:  62%|██████▏   | 62/100 [00:52<00:20,  1.81it/s]Setting `pad_token_id` to `eos_token_id`:50256 for open-end generation.\n",
      "Both `max_new_tokens` (=256) and `max_length`(=12) seem to have been set. `max_new_tokens` will take precedence. Please refer to the documentation for more information. (https://huggingface.co/docs/transformers/main/en/main_classes/text_generation)\n",
      "Evaluating Transformer:  64%|██████▍   | 64/100 [00:53<00:22,  1.63it/s]Setting `pad_token_id` to `eos_token_id`:50256 for open-end generation.\n",
      "Both `max_new_tokens` (=256) and `max_length`(=24) seem to have been set. `max_new_tokens` will take precedence. Please refer to the documentation for more information. (https://huggingface.co/docs/transformers/main/en/main_classes/text_generation)\n",
      "Evaluating Transformer:  67%|██████▋   | 67/100 [00:54<00:14,  2.21it/s]Setting `pad_token_id` to `eos_token_id`:50256 for open-end generation.\n",
      "Both `max_new_tokens` (=256) and `max_length`(=24) seem to have been set. `max_new_tokens` will take precedence. Please refer to the documentation for more information. (https://huggingface.co/docs/transformers/main/en/main_classes/text_generation)\n",
      "Setting `pad_token_id` to `eos_token_id`:50256 for open-end generation.\n",
      "Both `max_new_tokens` (=256) and `max_length`(=17) seem to have been set. `max_new_tokens` will take precedence. Please refer to the documentation for more information. (https://huggingface.co/docs/transformers/main/en/main_classes/text_generation)\n",
      "Evaluating Transformer:  69%|██████▉   | 69/100 [00:55<00:17,  1.82it/s]Setting `pad_token_id` to `eos_token_id`:50256 for open-end generation.\n",
      "Both `max_new_tokens` (=256) and `max_length`(=13) seem to have been set. `max_new_tokens` will take precedence. Please refer to the documentation for more information. (https://huggingface.co/docs/transformers/main/en/main_classes/text_generation)\n",
      "Evaluating Transformer:  71%|███████   | 71/100 [00:57<00:17,  1.66it/s]Setting `pad_token_id` to `eos_token_id`:50256 for open-end generation.\n",
      "Both `max_new_tokens` (=256) and `max_length`(=25) seem to have been set. `max_new_tokens` will take precedence. Please refer to the documentation for more information. (https://huggingface.co/docs/transformers/main/en/main_classes/text_generation)\n",
      "Evaluating Transformer:  72%|███████▏  | 72/100 [00:58<00:21,  1.33it/s]Setting `pad_token_id` to `eos_token_id`:50256 for open-end generation.\n",
      "Both `max_new_tokens` (=256) and `max_length`(=16) seem to have been set. `max_new_tokens` will take precedence. Please refer to the documentation for more information. (https://huggingface.co/docs/transformers/main/en/main_classes/text_generation)\n",
      "Setting `pad_token_id` to `eos_token_id`:50256 for open-end generation.\n",
      "Both `max_new_tokens` (=256) and `max_length`(=19) seem to have been set. `max_new_tokens` will take precedence. Please refer to the documentation for more information. (https://huggingface.co/docs/transformers/main/en/main_classes/text_generation)\n",
      "Evaluating Transformer:  75%|███████▌  | 75/100 [01:00<00:16,  1.51it/s]Setting `pad_token_id` to `eos_token_id`:50256 for open-end generation.\n",
      "Both `max_new_tokens` (=256) and `max_length`(=13) seem to have been set. `max_new_tokens` will take precedence. Please refer to the documentation for more information. (https://huggingface.co/docs/transformers/main/en/main_classes/text_generation)\n",
      "Evaluating Transformer:  76%|███████▌  | 76/100 [01:01<00:15,  1.55it/s]Setting `pad_token_id` to `eos_token_id`:50256 for open-end generation.\n",
      "Both `max_new_tokens` (=256) and `max_length`(=14) seem to have been set. `max_new_tokens` will take precedence. Please refer to the documentation for more information. (https://huggingface.co/docs/transformers/main/en/main_classes/text_generation)\n",
      "Evaluating Transformer:  77%|███████▋  | 77/100 [01:02<00:18,  1.22it/s]Setting `pad_token_id` to `eos_token_id`:50256 for open-end generation.\n",
      "Both `max_new_tokens` (=256) and `max_length`(=16) seem to have been set. `max_new_tokens` will take precedence. Please refer to the documentation for more information. (https://huggingface.co/docs/transformers/main/en/main_classes/text_generation)\n",
      "Evaluating Transformer:  79%|███████▉  | 79/100 [01:04<00:16,  1.25it/s]Setting `pad_token_id` to `eos_token_id`:50256 for open-end generation.\n",
      "Both `max_new_tokens` (=256) and `max_length`(=21) seem to have been set. `max_new_tokens` will take precedence. Please refer to the documentation for more information. (https://huggingface.co/docs/transformers/main/en/main_classes/text_generation)\n",
      "Evaluating Transformer:  80%|████████  | 80/100 [01:05<00:19,  1.05it/s]Setting `pad_token_id` to `eos_token_id`:50256 for open-end generation.\n",
      "Both `max_new_tokens` (=256) and `max_length`(=13) seem to have been set. `max_new_tokens` will take precedence. Please refer to the documentation for more information. (https://huggingface.co/docs/transformers/main/en/main_classes/text_generation)\n",
      "Evaluating Transformer:  81%|████████  | 81/100 [01:05<00:14,  1.30it/s]Setting `pad_token_id` to `eos_token_id`:50256 for open-end generation.\n",
      "Both `max_new_tokens` (=256) and `max_length`(=13) seem to have been set. `max_new_tokens` will take precedence. Please refer to the documentation for more information. (https://huggingface.co/docs/transformers/main/en/main_classes/text_generation)\n",
      "Evaluating Transformer:  82%|████████▏ | 82/100 [01:07<00:17,  1.04it/s]Setting `pad_token_id` to `eos_token_id`:50256 for open-end generation.\n",
      "Both `max_new_tokens` (=256) and `max_length`(=21) seem to have been set. `max_new_tokens` will take precedence. Please refer to the documentation for more information. (https://huggingface.co/docs/transformers/main/en/main_classes/text_generation)\n",
      "Evaluating Transformer:  84%|████████▍ | 84/100 [01:08<00:14,  1.14it/s]Setting `pad_token_id` to `eos_token_id`:50256 for open-end generation.\n",
      "Both `max_new_tokens` (=256) and `max_length`(=29) seem to have been set. `max_new_tokens` will take precedence. Please refer to the documentation for more information. (https://huggingface.co/docs/transformers/main/en/main_classes/text_generation)\n",
      "Evaluating Transformer:  87%|████████▋ | 87/100 [01:10<00:09,  1.42it/s]Setting `pad_token_id` to `eos_token_id`:50256 for open-end generation.\n",
      "Both `max_new_tokens` (=256) and `max_length`(=30) seem to have been set. `max_new_tokens` will take precedence. Please refer to the documentation for more information. (https://huggingface.co/docs/transformers/main/en/main_classes/text_generation)\n",
      "Evaluating Transformer:  89%|████████▉ | 89/100 [01:11<00:06,  1.75it/s]Setting `pad_token_id` to `eos_token_id`:50256 for open-end generation.\n",
      "Both `max_new_tokens` (=256) and `max_length`(=20) seem to have been set. `max_new_tokens` will take precedence. Please refer to the documentation for more information. (https://huggingface.co/docs/transformers/main/en/main_classes/text_generation)\n",
      "Evaluating Transformer:  93%|█████████▎| 93/100 [01:12<00:03,  2.08it/s]Setting `pad_token_id` to `eos_token_id`:50256 for open-end generation.\n",
      "Both `max_new_tokens` (=256) and `max_length`(=15) seem to have been set. `max_new_tokens` will take precedence. Please refer to the documentation for more information. (https://huggingface.co/docs/transformers/main/en/main_classes/text_generation)\n",
      "Evaluating Transformer:  96%|█████████▌| 96/100 [01:14<00:01,  2.05it/s]Setting `pad_token_id` to `eos_token_id`:50256 for open-end generation.\n",
      "Both `max_new_tokens` (=256) and `max_length`(=16) seem to have been set. `max_new_tokens` will take precedence. Please refer to the documentation for more information. (https://huggingface.co/docs/transformers/main/en/main_classes/text_generation)\n",
      "Evaluating Transformer:  97%|█████████▋| 97/100 [01:15<00:01,  1.78it/s]Setting `pad_token_id` to `eos_token_id`:50256 for open-end generation.\n",
      "Both `max_new_tokens` (=256) and `max_length`(=19) seem to have been set. `max_new_tokens` will take precedence. Please refer to the documentation for more information. (https://huggingface.co/docs/transformers/main/en/main_classes/text_generation)\n",
      "Evaluating Transformer: 100%|██████████| 100/100 [01:15<00:00,  1.33it/s]"
     ]
    },
    {
     "name": "stdout",
     "output_type": "stream",
     "text": [
      "Transformer Results:\n",
      "ROUGE-1: 0.0264\n",
      "ROUGE-2: 0.0009\n",
      "\n",
      "Examples:\n",
      "Example 1:\n",
      "  Input: school before it s not\n",
      "  Pred: in its time. The fact that the school has been\n",
      "  Target: that bad really\n",
      "\n",
      "Example 2:\n",
      "  Input: sufi family love you all\n",
      "  Pred: i know you love you all i know you love\n",
      "  Target: sweet dreams of dane xoxoxox\n",
      "\n",
      "Example 3:\n",
      "  Input: qualified plumber amp earn â\n",
      "  Pred: €‬¬¬¬¬¬¬¬¬¬¬¬¬¬¬¬¬¬‬¬¬¬¬¬¬¬¬ ¬¬¬¬¬¬¬¬¬¬¬¬¬¬¬¬¬¬¬¬¬¬¬¬¬¬¬¬¬¬¬¬¬¬¬¬¬¬¬¬¬¬¬¬¬¬¬¬¬¬¬¬¬¬¬¬¬¬¬¬¬¬¬¬¬¬¬¬¬¬¬¬¬¬¬¬¬¬¬¬¬¬¬¬¬¬¬¬¬¬¬¬¬¬¬¬¬¬¬¬�\n",
      "  Target: â â â â â\n",
      "\n",
      "Example 4:\n",
      "  Input: because of the lovely yu\n",
      "  Pred: /s bright sunshine. - Yu-o-yi-yi-yi-yi-yi-yi-yi-yi-yi-yi - Yi-o-yi-yi-yi-yi-yi-yi-yi-yi-yi-yi-yi-yi-yi-yi-yi-yi-yi-yi-yi-yi-yi-yi-yi-yi-yi-yi-yi-yi-yi-yi-yi-yi-yi-yi-yi-yi-yi-yi-yi-yi-yi-yi-yi-yi-yi-yi-yi-yi-yi-yi-yi-yi-yi-yi-yi-yi-yi-yi-yi-yi-yi-yi-yi-yi-yi-yi-yi-yi-yi-\n",
      "  Target: na zz english is a difficult\n",
      "\n",
      "Example 5:\n",
      "  Input: i really really really want\n",
      "  Pred: to be able to play around with your friends that\n",
      "  Target: to see you again\n",
      "\n",
      "Этап 5: Сравнение и выводы\n",
      "\n",
      "Сравнение результатов\n",
      "LSTM Model:\n",
      "  ROUGE-1: 0.0777\n",
      "  ROUGE-2: 0.0019\n",
      "\n",
      "Transformer Model (distilgpt2):\n",
      "  ROUGE-1: 0.0264\n",
      "  ROUGE-2: 0.0009\n",
      "\n",
      "Пример сравнения\n",
      "LSTM Examples:\n",
      "Example 1:\n",
      "  Input: feelings ll cyber listen is\n",
      "  Pred: getting hurt to some of the stars but i got\n",
      "  Target: s nothing 1000 it the they i can not bad\n",
      "\n",
      "Example 2:\n",
      "  Input: ll cyber listen is a\n",
      "  Pred: movie which is such a kind of <unk> i wan\n",
      "  Target: nothing 1000 it the they i can not bad before\n",
      "\n",
      "Transformer Examples:\n",
      "Example 1:\n",
      "  Input: school before it s not\n",
      "  Pred: in its time. The fact that the school has been\n",
      "  Target: that bad really\n",
      "\n",
      "Example 2:\n",
      "  Input: sufi family love you all\n",
      "  Pred: i know you love you all i know you love\n",
      "  Target: sweet dreams of dane xoxoxox\n",
      "\n",
      "\n",
      "Рекомендации\n",
      "Модель LSTM демонстрирует конкурентные характеристики.\n",
      "Рекомендация: Используйте модель LSTM для повышения эффективности использования памяти на мобильных устройствах.\n"
     ]
    },
    {
     "name": "stderr",
     "output_type": "stream",
     "text": [
      "\n"
     ]
    }
   ],
   "source": [
    "import sys\n",
    "import os\n",
    "sys.path.append('/home/ubuntu/text-autocomplete/src')\n",
    "\n",
    "import torch\n",
    "import pandas as pd\n",
    "import numpy as np\n",
    "from data_utils import prepare_dataset\n",
    "from next_token_dataset import NextTokenDataset\n",
    "from lstm_model import LSTMAutoComplete\n",
    "from lstm_train import train_model\n",
    "from eval_lstm import calculate_rouge_lstm\n",
    "from eval_transformer_pipeline import evaluate_transformer\n",
    "from torch.utils.data import DataLoader\n",
    "\n",
    "print(\"Этап 1: Подготовка данных\")\n",
    "train_df, val_df, test_df = prepare_dataset(\n",
    "    \"/home/ubuntu/text-autocomplete/data/tweets.txt\",\n",
    "    \"/home/ubuntu/text-autocomplete/data\"\n",
    ")\n",
    "\n",
    "print(\"Этап 2: Обучение модели LSTM\")\n",
    "device = torch.device('cuda' if torch.cuda.is_available() else 'cpu')\n",
    "\n",
    "train_dataset = NextTokenDataset('/home/ubuntu/text-autocomplete/data/train.csv')\n",
    "val_dataset = NextTokenDataset('/home/ubuntu/text-autocomplete/data/val.csv')\n",
    "\n",
    "train_loader = DataLoader(train_dataset, batch_size=256, shuffle=True)\n",
    "val_loader = DataLoader(val_dataset, batch_size=256, shuffle=False)\n",
    "\n",
    "model = LSTMAutoComplete(\n",
    "    vocab_size=train_dataset.vocab_size,\n",
    "    embedding_dim=128,\n",
    "    hidden_dim=128,\n",
    "    num_layers=2\n",
    ").to(device)\n",
    "\n",
    "trained_model, train_losses, val_rouge_scores = train_model(\n",
    "    model, train_loader, val_loader, train_dataset.vocab, device\n",
    ")\n",
    "\n",
    "print(\"Этап 3: Оценка модели LST\")\n",
    "test_dataset = NextTokenDataset('/home/ubuntu/text-autocomplete/data/test.csv')\n",
    "test_loader = DataLoader(test_dataset, batch_size=256, shuffle=False)\n",
    "\n",
    "rouge1_lstm, rouge2_lstm, lstm_examples = calculate_rouge_lstm(\n",
    "    trained_model, test_loader, train_dataset.vocab, device\n",
    ")\n",
    "\n",
    "print(f\"LSTM Test Results:\")\n",
    "print(f\"ROUGE-1: {rouge1_lstm:.4f}\")\n",
    "print(f\"ROUGE-2: {rouge2_lstm:.4f}\")\n",
    "\n",
    "print(\"Этап 4: Оценка модели Transformer\")\n",
    "rouge1_transformer, rouge2_transformer, transformer_examples = evaluate_transformer()\n",
    "\n",
    "print(\"Этап 5: Сравнение и выводы\")\n",
    "\n",
    "print(\"\\nСравнение результатов\")\n",
    "print(f\"LSTM Model:\")\n",
    "print(f\"  ROUGE-1: {rouge1_lstm:.4f}\")\n",
    "print(f\"  ROUGE-2: {rouge2_lstm:.4f}\")\n",
    "\n",
    "print(f\"\\nTransformer Model (distilgpt2):\")\n",
    "print(f\"  ROUGE-1: {rouge1_transformer:.4f}\")\n",
    "print(f\"  ROUGE-2: {rouge2_transformer:.4f}\")\n",
    "\n",
    "print(\"\\nПример сравнения\")\n",
    "print(\"LSTM Examples:\")\n",
    "for i, (input_tokens, pred_tokens, target_tokens) in enumerate(lstm_examples[:2]):\n",
    "    print(f\"Example {i+1}:\")\n",
    "    print(f\"  Input: {' '.join(input_tokens)}\")\n",
    "    print(f\"  Pred: {' '.join(pred_tokens)}\")\n",
    "    print(f\"  Target: {' '.join(target_tokens)}\")\n",
    "    print()\n",
    "\n",
    "print(\"Transformer Examples:\")\n",
    "for i, (input_tokens, pred_tokens, target_tokens) in enumerate(transformer_examples[:2]):\n",
    "    print(f\"Example {i+1}:\")\n",
    "    print(f\"  Input: {' '.join(input_tokens[-5:])}\")\n",
    "    print(f\"  Pred: {' '.join(pred_tokens)}\")\n",
    "    print(f\"  Target: {' '.join(target_tokens[:10])}\")\n",
    "    print()\n",
    "\n",
    "print(\"\\nРекомендации\")\n",
    "if rouge1_transformer > rouge1_lstm:\n",
    "    print(\"Модель Transformer показывает лучшие результаты по показателям ROUGE.\")\n",
    "    print(\"Рекомендация: Используйте модель Transformer, если позволяют ограничения памяти.\")\n",
    "else:\n",
    "    print(\"Модель LSTM демонстрирует конкурентные характеристики.\")\n",
    "    print(\"Рекомендация: Используйте модель LSTM для повышения эффективности использования памяти на мобильных устройствах.\")"
   ]
  }
 ],
 "metadata": {
  "kernelspec": {
   "display_name": "Python 3",
   "language": "python",
   "name": "python3"
  },
  "language_info": {
   "codemirror_mode": {
    "name": "ipython",
    "version": 3
   },
   "file_extension": ".py",
   "mimetype": "text/x-python",
   "name": "python",
   "nbconvert_exporter": "python",
   "pygments_lexer": "ipython3",
   "version": "3.10.12"
  }
 },
 "nbformat": 4,
 "nbformat_minor": 5
}
