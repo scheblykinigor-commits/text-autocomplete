{
 "cells": [
  {
   "cell_type": "code",
   "execution_count": null,
   "id": "b9bfeec0",
   "metadata": {},
   "outputs": [
    {
     "name": "stdout",
     "output_type": "stream",
     "text": [
      "Stage 1: Preparing data...\n",
      "Dataset prepared:\n",
      "Train: 1248676 samples\n",
      "Validation: 156085 samples\n",
      "Test: 156085 samples\n",
      "Stage 2: Training LSTM model...\n"
     ]
    },
    {
     "name": "stderr",
     "output_type": "stream",
     "text": [
      "Epoch 1/10: 100%|██████████| 4331/4331 [19:54<00:00,  3.63it/s, loss=5.2922]\n",
      "Evaluating LSTM: 100%|██████████| 544/544 [04:51<00:00,  1.87it/s]\n"
     ]
    },
    {
     "name": "stdout",
     "output_type": "stream",
     "text": [
      "Epoch 1:\n",
      "  Train Loss: 5.6630\n",
      "  Val ROUGE-1: 0.0781\n",
      "  Val ROUGE-2: 0.0022\n",
      "  Example predictions:\n",
      "    Input: a missed reason late that\n",
      "    Pred: my sister gets too nice to go through i m\n",
      "    Target: na bright little a seeing from them night 1 my\n",
      "\n",
      "    Input: missed reason late that tough\n",
      "    Pred: august n cody <unk> <unk> s sleep but it was\n",
      "    Target: bright little a seeing from them night 1 my coffee\n",
      "\n"
     ]
    },
    {
     "name": "stderr",
     "output_type": "stream",
     "text": [
      "Epoch 2/10: 100%|██████████| 4331/4331 [17:43<00:00,  4.07it/s, loss=5.0669]\n",
      "Evaluating LSTM: 100%|██████████| 544/544 [04:49<00:00,  1.88it/s]\n"
     ]
    },
    {
     "name": "stdout",
     "output_type": "stream",
     "text": [
      "Epoch 2:\n",
      "  Train Loss: 5.1478\n",
      "  Val ROUGE-1: 0.0764\n",
      "  Val ROUGE-2: 0.0019\n",
      "  Example predictions:\n",
      "    Input: a missed reason late that\n",
      "    Pred: people arent great too much they want a 4 to\n",
      "    Target: na bright little a seeing from them night 1 my\n",
      "\n",
      "    Input: missed reason late that tough\n",
      "    Pred: life werent in them just began i ve been working\n",
      "    Target: bright little a seeing from them night 1 my coffee\n",
      "\n"
     ]
    },
    {
     "name": "stderr",
     "output_type": "stream",
     "text": [
      "Epoch 3/10: 100%|██████████| 4331/4331 [17:44<00:00,  4.07it/s, loss=4.8845]\n",
      "Evaluating LSTM: 100%|██████████| 544/544 [04:47<00:00,  1.89it/s]\n"
     ]
    },
    {
     "name": "stdout",
     "output_type": "stream",
     "text": [
      "Epoch 3:\n",
      "  Train Loss: 4.9881\n",
      "  Val ROUGE-1: 0.0780\n",
      "  Val ROUGE-2: 0.0022\n",
      "  Example predictions:\n",
      "    Input: a missed reason late that\n",
      "    Pred: alex were <unk> with 8 live trip i had to\n",
      "    Target: na bright little a seeing from them night 1 my\n",
      "\n",
      "    Input: missed reason late that tough\n",
      "    Pred: night a few weeks ago than meeting tomorrow i m\n",
      "    Target: bright little a seeing from them night 1 my coffee\n",
      "\n"
     ]
    },
    {
     "name": "stderr",
     "output_type": "stream",
     "text": [
      "Epoch 4/10: 100%|██████████| 4331/4331 [17:43<00:00,  4.07it/s, loss=4.8276]\n",
      "Evaluating LSTM: 100%|██████████| 544/544 [04:46<00:00,  1.90it/s]\n"
     ]
    },
    {
     "name": "stdout",
     "output_type": "stream",
     "text": [
      "Epoch 4:\n",
      "  Train Loss: 4.8989\n",
      "  Val ROUGE-1: 0.0774\n",
      "  Val ROUGE-2: 0.0021\n",
      "  Example predictions:\n",
      "    Input: a missed reason late that\n",
      "    Pred: d <unk> very hell lt 3 anyways <unk> i hurt\n",
      "    Target: na bright little a seeing from them night 1 my\n",
      "\n",
      "    Input: missed reason late that tough\n",
      "    Pred: to are doing this thank god i m basically sad\n",
      "    Target: bright little a seeing from them night 1 my coffee\n",
      "\n"
     ]
    },
    {
     "name": "stderr",
     "output_type": "stream",
     "text": [
      "Epoch 5/10: 100%|██████████| 4331/4331 [17:29<00:00,  4.13it/s, loss=4.7913]\n",
      "Evaluating LSTM: 100%|██████████| 544/544 [04:49<00:00,  1.88it/s]\n"
     ]
    },
    {
     "name": "stdout",
     "output_type": "stream",
     "text": [
      "Epoch 5:\n",
      "  Train Loss: 4.8415\n",
      "  Val ROUGE-1: 0.0765\n",
      "  Val ROUGE-2: 0.0021\n",
      "  Example predictions:\n",
      "    Input: a missed reason late that\n",
      "    Pred: it s <unk> it won t get enough pokemon time\n",
      "    Target: na bright little a seeing from them night 1 my\n",
      "\n",
      "    Input: missed reason late that tough\n",
      "    Pred: nite amp kristen twit open b c he s not\n",
      "    Target: bright little a seeing from them night 1 my coffee\n",
      "\n"
     ]
    },
    {
     "name": "stderr",
     "output_type": "stream",
     "text": [
      "Epoch 6/10: 100%|██████████| 4331/4331 [17:03<00:00,  4.23it/s, loss=4.8435]\n",
      "Evaluating LSTM: 100%|██████████| 544/544 [04:42<00:00,  1.93it/s]\n"
     ]
    },
    {
     "name": "stdout",
     "output_type": "stream",
     "text": [
      "Epoch 6:\n",
      "  Train Loss: 4.8008\n",
      "  Val ROUGE-1: 0.0785\n",
      "  Val ROUGE-2: 0.0020\n",
      "  Example predictions:\n",
      "    Input: a missed reason late that\n",
      "    Pred: site is doing terrible don t think it s more\n",
      "    Target: na bright little a seeing from them night 1 my\n",
      "\n",
      "    Input: missed reason late that tough\n",
      "    Pred: i m on the update and i have to become\n",
      "    Target: bright little a seeing from them night 1 my coffee\n",
      "\n"
     ]
    },
    {
     "name": "stderr",
     "output_type": "stream",
     "text": [
      "Epoch 7/10: 100%|██████████| 4331/4331 [17:36<00:00,  4.10it/s, loss=4.8128]\n",
      "Evaluating LSTM: 100%|██████████| 544/544 [04:51<00:00,  1.87it/s]\n"
     ]
    },
    {
     "name": "stdout",
     "output_type": "stream",
     "text": [
      "Epoch 7:\n",
      "  Train Loss: 4.7697\n",
      "  Val ROUGE-1: 0.0782\n",
      "  Val ROUGE-2: 0.0020\n",
      "  Example predictions:\n",
      "    Input: a missed reason late that\n",
      "    Pred: means such a <unk> and always be bout to hurry\n",
      "    Target: na bright little a seeing from them night 1 my\n",
      "\n",
      "    Input: missed reason late that tough\n",
      "    Pred: luck at the museum 2 i can get one amount\n",
      "    Target: bright little a seeing from them night 1 my coffee\n",
      "\n"
     ]
    },
    {
     "name": "stderr",
     "output_type": "stream",
     "text": [
      "Epoch 8/10: 100%|██████████| 4331/4331 [17:51<00:00,  4.04it/s, loss=4.6620]\n",
      "Evaluating LSTM: 100%|██████████| 544/544 [04:52<00:00,  1.86it/s]\n"
     ]
    },
    {
     "name": "stdout",
     "output_type": "stream",
     "text": [
      "Epoch 8:\n",
      "  Train Loss: 4.7447\n",
      "  Val ROUGE-1: 0.0793\n",
      "  Val ROUGE-2: 0.0022\n",
      "  Example predictions:\n",
      "    Input: a missed reason late that\n",
      "    Pred: i have seen her oh well mac method style is\n",
      "    Target: na bright little a seeing from them night 1 my\n",
      "\n",
      "    Input: missed reason late that tough\n",
      "    Pred: date just after the wwe jacks and i was talking\n",
      "    Target: bright little a seeing from them night 1 my coffee\n",
      "\n"
     ]
    },
    {
     "name": "stderr",
     "output_type": "stream",
     "text": [
      "Epoch 9/10: 100%|██████████| 4331/4331 [17:43<00:00,  4.07it/s, loss=4.7154]\n",
      "Evaluating LSTM: 100%|██████████| 544/544 [04:49<00:00,  1.88it/s]\n"
     ]
    },
    {
     "name": "stdout",
     "output_type": "stream",
     "text": [
      "Epoch 9:\n",
      "  Train Loss: 4.7239\n",
      "  Val ROUGE-1: 0.0793\n",
      "  Val ROUGE-2: 0.0023\n",
      "  Example predictions:\n",
      "    Input: a missed reason late that\n",
      "    Pred: i cant afford to get to work again like a\n",
      "    Target: na bright little a seeing from them night 1 my\n",
      "\n",
      "    Input: missed reason late that tough\n",
      "    Pred: does remember i injured being <unk> a weakness and let\n",
      "    Target: bright little a seeing from them night 1 my coffee\n",
      "\n"
     ]
    },
    {
     "name": "stderr",
     "output_type": "stream",
     "text": [
      "Epoch 10/10: 100%|██████████| 4331/4331 [17:45<00:00,  4.06it/s, loss=4.7393]\n",
      "Evaluating LSTM: 100%|██████████| 544/544 [04:50<00:00,  1.87it/s]\n"
     ]
    },
    {
     "name": "stdout",
     "output_type": "stream",
     "text": [
      "Epoch 10:\n",
      "  Train Loss: 4.7067\n",
      "  Val ROUGE-1: 0.0779\n",
      "  Val ROUGE-2: 0.0023\n",
      "  Example predictions:\n",
      "    Input: a missed reason late that\n",
      "    Pred: was this i am trying 3 <unk> 6 bets my\n",
      "    Target: na bright little a seeing from them night 1 my\n",
      "\n",
      "    Input: missed reason late that tough\n",
      "    Pred: to know how some1 tells us a song of long\n",
      "    Target: bright little a seeing from them night 1 my coffee\n",
      "\n"
     ]
    },
    {
     "data": {
      "image/png": "[encoded data removed]",
      "text/plain": [
       "<Figure size 1200x400 with 2 Axes>"
      ]
     },
     "metadata": {},
     "output_type": "display_data"
    },
    {
     "name": "stdout",
     "output_type": "stream",
     "text": [
      "Stage 3: Evaluating LSTM model...\n"
     ]
    },
    {
     "name": "stderr",
     "output_type": "stream",
     "text": [
      "Evaluating LSTM: 100%|██████████| 541/541 [04:48<00:00,  1.88it/s]\n"
     ]
    },
    {
     "name": "stdout",
     "output_type": "stream",
     "text": [
      "LSTM Test Results:\n",
      "ROUGE-1: 0.0776\n",
      "ROUGE-2: 0.0021\n",
      "Stage 4: Evaluating Transformer model...\n"
     ]
    },
    {
     "name": "stderr",
     "output_type": "stream",
     "text": [
      "Device set to use cpu\n",
      "Evaluating Transformer:   0%|          | 0/100 [00:00<?, ?it/s]Truncation was not explicitly activated but `max_length` is provided a specific value, please use `truncation=True` to explicitly truncate examples to max length. Defaulting to 'longest_first' truncation strategy. If you encode pairs of sequences (GLUE-style) with the tokenizer you can select this strategy more precisely by providing a specific strategy to `truncation`.\n",
      "Setting `pad_token_id` to `eos_token_id`:50256 for open-end generation.\n",
      "Both `max_new_tokens` (=256) and `max_length`(=12) seem to have been set. `max_new_tokens` will take precedence. Please refer to the documentation for more information. (https://huggingface.co/docs/transformers/main/en/main_classes/text_generation)\n",
      "Evaluating Transformer:   1%|          | 1/100 [00:02<03:45,  2.28s/it]Setting `pad_token_id` to `eos_token_id`:50256 for open-end generation.\n",
      "Both `max_new_tokens` (=256) and `max_length`(=21) seem to have been set. `max_new_tokens` will take precedence. Please refer to the documentation for more information. (https://huggingface.co/docs/transformers/main/en/main_classes/text_generation)\n",
      "Evaluating Transformer:   3%|▎         | 3/100 [00:08<04:37,  2.86s/it]Setting `pad_token_id` to `eos_token_id`:50256 for open-end generation.\n",
      "Both `max_new_tokens` (=256) and `max_length`(=18) seem to have been set. `max_new_tokens` will take precedence. Please refer to the documentation for more information. (https://huggingface.co/docs/transformers/main/en/main_classes/text_generation)\n",
      "Evaluating Transformer:   4%|▍         | 4/100 [00:14<06:23,  4.00s/it]Setting `pad_token_id` to `eos_token_id`:50256 for open-end generation.\n",
      "Both `max_new_tokens` (=256) and `max_length`(=23) seem to have been set. `max_new_tokens` will take precedence. Please refer to the documentation for more information. (https://huggingface.co/docs/transformers/main/en/main_classes/text_generation)\n",
      "Evaluating Transformer:   5%|▌         | 5/100 [00:14<04:21,  2.75s/it]Setting `pad_token_id` to `eos_token_id`:50256 for open-end generation.\n",
      "Both `max_new_tokens` (=256) and `max_length`(=16) seem to have been set. `max_new_tokens` will take precedence. Please refer to the documentation for more information. (https://huggingface.co/docs/transformers/main/en/main_classes/text_generation)\n",
      "Evaluating Transformer:   8%|▊         | 8/100 [00:15<01:52,  1.23s/it]Setting `pad_token_id` to `eos_token_id`:50256 for open-end generation.\n",
      "Both `max_new_tokens` (=256) and `max_length`(=21) seem to have been set. `max_new_tokens` will take precedence. Please refer to the documentation for more information. (https://huggingface.co/docs/transformers/main/en/main_classes/text_generation)\n",
      "Evaluating Transformer:   9%|▉         | 9/100 [00:21<03:29,  2.30s/it]Setting `pad_token_id` to `eos_token_id`:50256 for open-end generation.\n",
      "Both `max_new_tokens` (=256) and `max_length`(=25) seem to have been set. `max_new_tokens` will take precedence. Please refer to the documentation for more information. (https://huggingface.co/docs/transformers/main/en/main_classes/text_generation)\n",
      "Evaluating Transformer:  10%|█         | 10/100 [00:27<04:48,  3.21s/it]Setting `pad_token_id` to `eos_token_id`:50256 for open-end generation.\n",
      "Both `max_new_tokens` (=256) and `max_length`(=13) seem to have been set. `max_new_tokens` will take precedence. Please refer to the documentation for more information. (https://huggingface.co/docs/transformers/main/en/main_classes/text_generation)\n",
      "Evaluating Transformer:  11%|█         | 11/100 [00:33<05:50,  3.94s/it]Setting `pad_token_id` to `eos_token_id`:50256 for open-end generation.\n",
      "Both `max_new_tokens` (=256) and `max_length`(=28) seem to have been set. `max_new_tokens` will take precedence. Please refer to the documentation for more information. (https://huggingface.co/docs/transformers/main/en/main_classes/text_generation)\n",
      "Evaluating Transformer:  12%|█▏        | 12/100 [00:39<06:37,  4.52s/it]Setting `pad_token_id` to `eos_token_id`:50256 for open-end generation.\n",
      "Both `max_new_tokens` (=256) and `max_length`(=11) seem to have been set. `max_new_tokens` will take precedence. Please refer to the documentation for more information. (https://huggingface.co/docs/transformers/main/en/main_classes/text_generation)\n",
      "Evaluating Transformer:  13%|█▎        | 13/100 [00:45<07:11,  4.96s/it]Setting `pad_token_id` to `eos_token_id`:50256 for open-end generation.\n",
      "Both `max_new_tokens` (=256) and `max_length`(=28) seem to have been set. `max_new_tokens` will take precedence. Please refer to the documentation for more information. (https://huggingface.co/docs/transformers/main/en/main_classes/text_generation)\n",
      "Evaluating Transformer:  16%|█▌        | 16/100 [00:52<04:44,  3.39s/it]Setting `pad_token_id` to `eos_token_id`:50256 for open-end generation.\n",
      "Both `max_new_tokens` (=256) and `max_length`(=28) seem to have been set. `max_new_tokens` will take precedence. Please refer to the documentation for more information. (https://huggingface.co/docs/transformers/main/en/main_classes/text_generation)\n",
      "Evaluating Transformer:  17%|█▋        | 17/100 [00:58<05:27,  3.95s/it]Setting `pad_token_id` to `eos_token_id`:50256 for open-end generation.\n",
      "Both `max_new_tokens` (=256) and `max_length`(=12) seem to have been set. `max_new_tokens` will take precedence. Please refer to the documentation for more information. (https://huggingface.co/docs/transformers/main/en/main_classes/text_generation)\n",
      "Evaluating Transformer:  18%|█▊        | 18/100 [01:04<06:04,  4.44s/it]Setting `pad_token_id` to `eos_token_id`:50256 for open-end generation.\n",
      "Both `max_new_tokens` (=256) and `max_length`(=29) seem to have been set. `max_new_tokens` will take precedence. Please refer to the documentation for more information. (https://huggingface.co/docs/transformers/main/en/main_classes/text_generation)\n",
      "Evaluating Transformer:  19%|█▉        | 19/100 [01:10<06:35,  4.88s/it]Setting `pad_token_id` to `eos_token_id`:50256 for open-end generation.\n",
      "Both `max_new_tokens` (=256) and `max_length`(=11) seem to have been set. `max_new_tokens` will take precedence. Please refer to the documentation for more information. (https://huggingface.co/docs/transformers/main/en/main_classes/text_generation)\n",
      "Evaluating Transformer:  20%|██        | 20/100 [01:16<06:55,  5.20s/it]Setting `pad_token_id` to `eos_token_id`:50256 for open-end generation.\n",
      "Both `max_new_tokens` (=256) and `max_length`(=22) seem to have been set. `max_new_tokens` will take precedence. Please refer to the documentation for more information. (https://huggingface.co/docs/transformers/main/en/main_classes/text_generation)\n",
      "Evaluating Transformer:  22%|██▏       | 22/100 [01:16<03:58,  3.06s/it]Setting `pad_token_id` to `eos_token_id`:50256 for open-end generation.\n",
      "Both `max_new_tokens` (=256) and `max_length`(=18) seem to have been set. `max_new_tokens` will take precedence. Please refer to the documentation for more information. (https://huggingface.co/docs/transformers/main/en/main_classes/text_generation)\n",
      "Evaluating Transformer:  24%|██▍       | 24/100 [01:19<02:54,  2.30s/it]Setting `pad_token_id` to `eos_token_id`:50256 for open-end generation.\n",
      "Both `max_new_tokens` (=256) and `max_length`(=29) seem to have been set. `max_new_tokens` will take precedence. Please refer to the documentation for more information. (https://huggingface.co/docs/transformers/main/en/main_classes/text_generation)\n",
      "Evaluating Transformer:  26%|██▌       | 26/100 [01:25<03:10,  2.57s/it]Setting `pad_token_id` to `eos_token_id`:50256 for open-end generation.\n",
      "Both `max_new_tokens` (=256) and `max_length`(=23) seem to have been set. `max_new_tokens` will take precedence. Please refer to the documentation for more information. (https://huggingface.co/docs/transformers/main/en/main_classes/text_generation)\n",
      "Evaluating Transformer:  27%|██▋       | 27/100 [01:31<03:59,  3.28s/it]Setting `pad_token_id` to `eos_token_id`:50256 for open-end generation.\n",
      "Both `max_new_tokens` (=256) and `max_length`(=30) seem to have been set. `max_new_tokens` will take precedence. Please refer to the documentation for more information. (https://huggingface.co/docs/transformers/main/en/main_classes/text_generation)\n",
      "Evaluating Transformer:  29%|██▉       | 29/100 [01:31<02:30,  2.12s/it]Setting `pad_token_id` to `eos_token_id`:50256 for open-end generation.\n",
      "Both `max_new_tokens` (=256) and `max_length`(=18) seem to have been set. `max_new_tokens` will take precedence. Please refer to the documentation for more information. (https://huggingface.co/docs/transformers/main/en/main_classes/text_generation)\n",
      "Evaluating Transformer:  30%|███       | 30/100 [01:36<03:10,  2.72s/it]Setting `pad_token_id` to `eos_token_id`:50256 for open-end generation.\n",
      "Both `max_new_tokens` (=256) and `max_length`(=15) seem to have been set. `max_new_tokens` will take precedence. Please refer to the documentation for more information. (https://huggingface.co/docs/transformers/main/en/main_classes/text_generation)\n",
      "Evaluating Transformer:  31%|███       | 31/100 [01:42<04:01,  3.50s/it]Setting `pad_token_id` to `eos_token_id`:50256 for open-end generation.\n",
      "Both `max_new_tokens` (=256) and `max_length`(=18) seem to have been set. `max_new_tokens` will take precedence. Please refer to the documentation for more information. (https://huggingface.co/docs/transformers/main/en/main_classes/text_generation)\n",
      "Evaluating Transformer:  32%|███▏      | 32/100 [01:48<04:42,  4.15s/it]Setting `pad_token_id` to `eos_token_id`:50256 for open-end generation.\n",
      "Both `max_new_tokens` (=256) and `max_length`(=14) seem to have been set. `max_new_tokens` will take precedence. Please refer to the documentation for more information. (https://huggingface.co/docs/transformers/main/en/main_classes/text_generation)\n",
      "Evaluating Transformer:  33%|███▎      | 33/100 [01:52<04:22,  3.92s/it]Setting `pad_token_id` to `eos_token_id`:50256 for open-end generation.\n",
      "Both `max_new_tokens` (=256) and `max_length`(=19) seem to have been set. `max_new_tokens` will take precedence. Please refer to the documentation for more information. (https://huggingface.co/docs/transformers/main/en/main_classes/text_generation)\n",
      "Evaluating Transformer:  34%|███▍      | 34/100 [01:52<03:19,  3.03s/it]Setting `pad_token_id` to `eos_token_id`:50256 for open-end generation.\n",
      "Both `max_new_tokens` (=256) and `max_length`(=18) seem to have been set. `max_new_tokens` will take precedence. Please refer to the documentation for more information. (https://huggingface.co/docs/transformers/main/en/main_classes/text_generation)\n",
      "Evaluating Transformer:  36%|███▌      | 36/100 [01:58<03:14,  3.04s/it]Setting `pad_token_id` to `eos_token_id`:50256 for open-end generation.\n",
      "Both `max_new_tokens` (=256) and `max_length`(=30) seem to have been set. `max_new_tokens` will take precedence. Please refer to the documentation for more information. (https://huggingface.co/docs/transformers/main/en/main_classes/text_generation)\n",
      "Evaluating Transformer:  37%|███▋      | 37/100 [02:04<03:57,  3.77s/it]Setting `pad_token_id` to `eos_token_id`:50256 for open-end generation.\n",
      "Both `max_new_tokens` (=256) and `max_length`(=12) seem to have been set. `max_new_tokens` will take precedence. Please refer to the documentation for more information. (https://huggingface.co/docs/transformers/main/en/main_classes/text_generation)\n",
      "Evaluating Transformer:  39%|███▉      | 39/100 [02:05<02:24,  2.37s/it]Setting `pad_token_id` to `eos_token_id`:50256 for open-end generation.\n",
      "Both `max_new_tokens` (=256) and `max_length`(=14) seem to have been set. `max_new_tokens` will take precedence. Please refer to the documentation for more information. (https://huggingface.co/docs/transformers/main/en/main_classes/text_generation)\n",
      "Evaluating Transformer:  40%|████      | 40/100 [02:11<03:13,  3.23s/it]Setting `pad_token_id` to `eos_token_id`:50256 for open-end generation.\n",
      "Both `max_new_tokens` (=256) and `max_length`(=15) seem to have been set. `max_new_tokens` will take precedence. Please refer to the documentation for more information. (https://huggingface.co/docs/transformers/main/en/main_classes/text_generation)\n",
      "Evaluating Transformer:  41%|████      | 41/100 [02:17<03:51,  3.93s/it]Setting `pad_token_id` to `eos_token_id`:50256 for open-end generation.\n",
      "Both `max_new_tokens` (=256) and `max_length`(=27) seem to have been set. `max_new_tokens` will take precedence. Please refer to the documentation for more information. (https://huggingface.co/docs/transformers/main/en/main_classes/text_generation)\n",
      "Evaluating Transformer:  43%|████▎     | 43/100 [02:19<02:27,  2.58s/it]Setting `pad_token_id` to `eos_token_id`:50256 for open-end generation.\n",
      "Both `max_new_tokens` (=256) and `max_length`(=25) seem to have been set. `max_new_tokens` will take precedence. Please refer to the documentation for more information. (https://huggingface.co/docs/transformers/main/en/main_classes/text_generation)\n",
      "Evaluating Transformer:  45%|████▌     | 45/100 [02:25<02:31,  2.76s/it]Setting `pad_token_id` to `eos_token_id`:50256 for open-end generation.\n",
      "Both `max_new_tokens` (=256) and `max_length`(=14) seem to have been set. `max_new_tokens` will take precedence. Please refer to the documentation for more information. (https://huggingface.co/docs/transformers/main/en/main_classes/text_generation)\n",
      "Evaluating Transformer:  46%|████▌     | 46/100 [02:25<02:04,  2.30s/it]Setting `pad_token_id` to `eos_token_id`:50256 for open-end generation.\n",
      "Both `max_new_tokens` (=256) and `max_length`(=24) seem to have been set. `max_new_tokens` will take precedence. Please refer to the documentation for more information. (https://huggingface.co/docs/transformers/main/en/main_classes/text_generation)\n",
      "Evaluating Transformer:  47%|████▋     | 47/100 [02:31<02:48,  3.18s/it]Setting `pad_token_id` to `eos_token_id`:50256 for open-end generation.\n",
      "Both `max_new_tokens` (=256) and `max_length`(=24) seem to have been set. `max_new_tokens` will take precedence. Please refer to the documentation for more information. (https://huggingface.co/docs/transformers/main/en/main_classes/text_generation)\n",
      "Evaluating Transformer:  49%|████▉     | 49/100 [02:38<02:39,  3.13s/it]Setting `pad_token_id` to `eos_token_id`:50256 for open-end generation.\n",
      "Both `max_new_tokens` (=256) and `max_length`(=18) seem to have been set. `max_new_tokens` will take precedence. Please refer to the documentation for more information. (https://huggingface.co/docs/transformers/main/en/main_classes/text_generation)\n",
      "Evaluating Transformer:  51%|█████     | 51/100 [02:44<02:32,  3.11s/it]Setting `pad_token_id` to `eos_token_id`:50256 for open-end generation.\n",
      "Both `max_new_tokens` (=256) and `max_length`(=14) seem to have been set. `max_new_tokens` will take precedence. Please refer to the documentation for more information. (https://huggingface.co/docs/transformers/main/en/main_classes/text_generation)\n",
      "Evaluating Transformer:  52%|█████▏    | 52/100 [02:45<02:12,  2.76s/it]Setting `pad_token_id` to `eos_token_id`:50256 for open-end generation.\n",
      "Both `max_new_tokens` (=256) and `max_length`(=14) seem to have been set. `max_new_tokens` will take precedence. Please refer to the documentation for more information. (https://huggingface.co/docs/transformers/main/en/main_classes/text_generation)\n",
      "Setting `pad_token_id` to `eos_token_id`:50256 for open-end generation.\n",
      "Both `max_new_tokens` (=256) and `max_length`(=19) seem to have been set. `max_new_tokens` will take precedence. Please refer to the documentation for more information. (https://huggingface.co/docs/transformers/main/en/main_classes/text_generation)\n",
      "Evaluating Transformer:  56%|█████▌    | 56/100 [02:51<01:32,  2.11s/it]Setting `pad_token_id` to `eos_token_id`:50256 for open-end generation.\n",
      "Both `max_new_tokens` (=256) and `max_length`(=15) seem to have been set. `max_new_tokens` will take precedence. Please refer to the documentation for more information. (https://huggingface.co/docs/transformers/main/en/main_classes/text_generation)\n",
      "Evaluating Transformer:  59%|█████▉    | 59/100 [02:51<00:55,  1.36s/it]Setting `pad_token_id` to `eos_token_id`:50256 for open-end generation.\n",
      "Both `max_new_tokens` (=256) and `max_length`(=19) seem to have been set. `max_new_tokens` will take precedence. Please refer to the documentation for more information. (https://huggingface.co/docs/transformers/main/en/main_classes/text_generation)\n",
      "Evaluating Transformer:  60%|██████    | 60/100 [02:58<01:22,  2.07s/it]Setting `pad_token_id` to `eos_token_id`:50256 for open-end generation.\n",
      "Both `max_new_tokens` (=256) and `max_length`(=23) seem to have been set. `max_new_tokens` will take precedence. Please refer to the documentation for more information. (https://huggingface.co/docs/transformers/main/en/main_classes/text_generation)\n",
      "Evaluating Transformer:  61%|██████    | 61/100 [03:04<01:48,  2.78s/it]Setting `pad_token_id` to `eos_token_id`:50256 for open-end generation.\n",
      "Both `max_new_tokens` (=256) and `max_length`(=26) seem to have been set. `max_new_tokens` will take precedence. Please refer to the documentation for more information. (https://huggingface.co/docs/transformers/main/en/main_classes/text_generation)\n",
      "Evaluating Transformer:  62%|██████▏   | 62/100 [03:05<01:36,  2.54s/it]Setting `pad_token_id` to `eos_token_id`:50256 for open-end generation.\n",
      "Both `max_new_tokens` (=256) and `max_length`(=12) seem to have been set. `max_new_tokens` will take precedence. Please refer to the documentation for more information. (https://huggingface.co/docs/transformers/main/en/main_classes/text_generation)\n",
      "Evaluating Transformer:  64%|██████▍   | 64/100 [03:11<01:38,  2.74s/it]Setting `pad_token_id` to `eos_token_id`:50256 for open-end generation.\n",
      "Both `max_new_tokens` (=256) and `max_length`(=24) seem to have been set. `max_new_tokens` will take precedence. Please refer to the documentation for more information. (https://huggingface.co/docs/transformers/main/en/main_classes/text_generation)\n",
      "Evaluating Transformer:  67%|██████▋   | 67/100 [03:18<01:20,  2.43s/it]Setting `pad_token_id` to `eos_token_id`:50256 for open-end generation.\n",
      "Both `max_new_tokens` (=256) and `max_length`(=24) seem to have been set. `max_new_tokens` will take precedence. Please refer to the documentation for more information. (https://huggingface.co/docs/transformers/main/en/main_classes/text_generation)\n",
      "Evaluating Transformer:  68%|██████▊   | 68/100 [03:24<01:38,  3.08s/it]Setting `pad_token_id` to `eos_token_id`:50256 for open-end generation.\n",
      "Both `max_new_tokens` (=256) and `max_length`(=17) seem to have been set. `max_new_tokens` will take precedence. Please refer to the documentation for more information. (https://huggingface.co/docs/transformers/main/en/main_classes/text_generation)\n",
      "Evaluating Transformer:  69%|██████▉   | 69/100 [03:30<01:54,  3.68s/it]Setting `pad_token_id` to `eos_token_id`:50256 for open-end generation.\n",
      "Both `max_new_tokens` (=256) and `max_length`(=13) seem to have been set. `max_new_tokens` will take precedence. Please refer to the documentation for more information. (https://huggingface.co/docs/transformers/main/en/main_classes/text_generation)\n",
      "Evaluating Transformer:  71%|███████   | 71/100 [03:36<01:40,  3.46s/it]Setting `pad_token_id` to `eos_token_id`:50256 for open-end generation.\n",
      "Both `max_new_tokens` (=256) and `max_length`(=25) seem to have been set. `max_new_tokens` will take precedence. Please refer to the documentation for more information. (https://huggingface.co/docs/transformers/main/en/main_classes/text_generation)\n",
      "Evaluating Transformer:  72%|███████▏  | 72/100 [03:42<01:52,  4.01s/it]Setting `pad_token_id` to `eos_token_id`:50256 for open-end generation.\n",
      "Both `max_new_tokens` (=256) and `max_length`(=16) seem to have been set. `max_new_tokens` will take precedence. Please refer to the documentation for more information. (https://huggingface.co/docs/transformers/main/en/main_classes/text_generation)\n",
      "Evaluating Transformer:  73%|███████▎  | 73/100 [03:48<02:01,  4.48s/it]Setting `pad_token_id` to `eos_token_id`:50256 for open-end generation.\n",
      "Both `max_new_tokens` (=256) and `max_length`(=19) seem to have been set. `max_new_tokens` will take precedence. Please refer to the documentation for more information. (https://huggingface.co/docs/transformers/main/en/main_classes/text_generation)\n",
      "Evaluating Transformer:  75%|███████▌  | 75/100 [03:48<01:08,  2.76s/it]Setting `pad_token_id` to `eos_token_id`:50256 for open-end generation.\n",
      "Both `max_new_tokens` (=256) and `max_length`(=13) seem to have been set. `max_new_tokens` will take precedence. Please refer to the documentation for more information. (https://huggingface.co/docs/transformers/main/en/main_classes/text_generation)\n",
      "Evaluating Transformer:  76%|███████▌  | 76/100 [03:49<00:54,  2.27s/it]Setting `pad_token_id` to `eos_token_id`:50256 for open-end generation.\n",
      "Both `max_new_tokens` (=256) and `max_length`(=14) seem to have been set. `max_new_tokens` will take precedence. Please refer to the documentation for more information. (https://huggingface.co/docs/transformers/main/en/main_classes/text_generation)\n",
      "Evaluating Transformer:  77%|███████▋  | 77/100 [03:55<01:13,  3.20s/it]Setting `pad_token_id` to `eos_token_id`:50256 for open-end generation.\n",
      "Both `max_new_tokens` (=256) and `max_length`(=16) seem to have been set. `max_new_tokens` will take precedence. Please refer to the documentation for more information. (https://huggingface.co/docs/transformers/main/en/main_classes/text_generation)\n",
      "Evaluating Transformer:  79%|███████▉  | 79/100 [04:01<01:05,  3.14s/it]Setting `pad_token_id` to `eos_token_id`:50256 for open-end generation.\n",
      "Both `max_new_tokens` (=256) and `max_length`(=21) seem to have been set. `max_new_tokens` will take precedence. Please refer to the documentation for more information. (https://huggingface.co/docs/transformers/main/en/main_classes/text_generation)\n",
      "Evaluating Transformer:  80%|████████  | 80/100 [04:07<01:16,  3.81s/it]Setting `pad_token_id` to `eos_token_id`:50256 for open-end generation.\n",
      "Both `max_new_tokens` (=256) and `max_length`(=13) seem to have been set. `max_new_tokens` will take precedence. Please refer to the documentation for more information. (https://huggingface.co/docs/transformers/main/en/main_classes/text_generation)\n",
      "Evaluating Transformer:  81%|████████  | 81/100 [04:14<01:23,  4.38s/it]Setting `pad_token_id` to `eos_token_id`:50256 for open-end generation.\n",
      "Both `max_new_tokens` (=256) and `max_length`(=13) seem to have been set. `max_new_tokens` will take precedence. Please refer to the documentation for more information. (https://huggingface.co/docs/transformers/main/en/main_classes/text_generation)\n",
      "Evaluating Transformer:  82%|████████▏ | 82/100 [04:14<01:00,  3.34s/it]Setting `pad_token_id` to `eos_token_id`:50256 for open-end generation.\n",
      "Both `max_new_tokens` (=256) and `max_length`(=21) seem to have been set. `max_new_tokens` will take precedence. Please refer to the documentation for more information. (https://huggingface.co/docs/transformers/main/en/main_classes/text_generation)\n",
      "Evaluating Transformer:  84%|████████▍ | 84/100 [04:20<00:51,  3.23s/it]Setting `pad_token_id` to `eos_token_id`:50256 for open-end generation.\n",
      "Both `max_new_tokens` (=256) and `max_length`(=29) seem to have been set. `max_new_tokens` will take precedence. Please refer to the documentation for more information. (https://huggingface.co/docs/transformers/main/en/main_classes/text_generation)\n",
      "Evaluating Transformer:  87%|████████▋ | 87/100 [04:26<00:34,  2.66s/it]Setting `pad_token_id` to `eos_token_id`:50256 for open-end generation.\n",
      "Both `max_new_tokens` (=256) and `max_length`(=30) seem to have been set. `max_new_tokens` will take precedence. Please refer to the documentation for more information. (https://huggingface.co/docs/transformers/main/en/main_classes/text_generation)\n",
      "Evaluating Transformer:  89%|████████▉ | 89/100 [04:27<00:20,  1.89s/it]Setting `pad_token_id` to `eos_token_id`:50256 for open-end generation.\n",
      "Both `max_new_tokens` (=256) and `max_length`(=20) seem to have been set. `max_new_tokens` will take precedence. Please refer to the documentation for more information. (https://huggingface.co/docs/transformers/main/en/main_classes/text_generation)\n",
      "Evaluating Transformer:  93%|█████████▎| 93/100 [04:27<00:07,  1.02s/it]Setting `pad_token_id` to `eos_token_id`:50256 for open-end generation.\n",
      "Both `max_new_tokens` (=256) and `max_length`(=15) seem to have been set. `max_new_tokens` will take precedence. Please refer to the documentation for more information. (https://huggingface.co/docs/transformers/main/en/main_classes/text_generation)\n",
      "Evaluating Transformer:  96%|█████████▌| 96/100 [04:33<00:05,  1.36s/it]Setting `pad_token_id` to `eos_token_id`:50256 for open-end generation.\n",
      "Both `max_new_tokens` (=256) and `max_length`(=16) seem to have been set. `max_new_tokens` will take precedence. Please refer to the documentation for more information. (https://huggingface.co/docs/transformers/main/en/main_classes/text_generation)\n",
      "Evaluating Transformer:  97%|█████████▋| 97/100 [04:36<00:04,  1.65s/it]Setting `pad_token_id` to `eos_token_id`:50256 for open-end generation.\n",
      "Both `max_new_tokens` (=256) and `max_length`(=19) seem to have been set. `max_new_tokens` will take precedence. Please refer to the documentation for more information. (https://huggingface.co/docs/transformers/main/en/main_classes/text_generation)\n",
      "Evaluating Transformer: 100%|██████████| 100/100 [04:36<00:00,  2.77s/it]"
     ]
    },
    {
     "name": "stdout",
     "output_type": "stream",
     "text": [
      "Transformer Results:\n",
      "ROUGE-1: 0.0324\n",
      "ROUGE-2: 0.0071\n",
      "\n",
      "Examples:\n",
      "Example 1:\n",
      "  Input: school before it s not\n",
      "  Pred: at all, or if the school wanted to do so.\n",
      "  Target: that bad really\n",
      "\n",
      "Example 2:\n",
      "  Input: sufi family love you all\n",
      "  Pred: ! but i have to admit that i am really\n",
      "  Target: sweet dreams of dane xoxoxox\n",
      "\n",
      "Example 3:\n",
      "  Input: qualified plumber amp earn â\n",
      "  Pred: €˜€˜€˜€˜€˜€˜€˜€˜€˜€˜€˜€˜€˜€˜€˜€˜€˜€˜€˜€˜€˜€˜€˜€˜€˜€˜€˜€˜€˜€˜€˜€˜€˜€˜€˜€˜€˜€˜€˜€˜€˜€˜€˜€˜€˜€˜€˜€˜€˜€˜€˜€˜€˜€˜€˜€˜€˜€˜€˜€˜€˜€˜€˜€˜€˜€˜€˜€˜€˜€˜€˜€˜€˜€˜€˜€˜€˜€˜€˜€˜€˜€˜€˜€˜€˜€˜€˜€˜€˜€˜€˜€˜€˜€˜€˜€˜€˜€˜€˜€˜€˜€˜€˜€˜€˜€˜€˜€˜€˜€˜€˜€˜€˜€˜€˜€˜€˜€˜€˜€˜€˜€˜€˜€˜€˜€˜€˜€˜\n",
      "  Target: â â â â â\n",
      "\n",
      "Example 4:\n",
      "  Input: because of the lovely yu\n",
      "  Pred: oshi! Advertisements\n",
      "  Target: na zz english is a difficult\n",
      "\n",
      "Example 5:\n",
      "  Input: i really really really want\n",
      "  Pred: to see some more. I hope to see you soon\n",
      "  Target: to see you again\n",
      "\n",
      "Stage 5: Comparison and Conclusions\n",
      "\n",
      "=== RESULTS COMPARISON ===\n",
      "LSTM Model:\n",
      "  ROUGE-1: 0.0776\n",
      "  ROUGE-2: 0.0021\n",
      "\n",
      "Transformer Model (distilgpt2):\n",
      "  ROUGE-1: 0.0324\n",
      "  ROUGE-2: 0.0071\n",
      "\n",
      "=== EXAMPLE COMPARISON ===\n",
      "LSTM Examples:\n",
      "Example 1:\n",
      "  Input: feelings ll cyber listen is\n",
      "  Pred: fine no time we ll be all in science but\n",
      "  Target: s nothing 1000 it the they i can not bad\n",
      "\n",
      "Example 2:\n",
      "  Input: ll cyber listen is a\n",
      "  Pred: wierd day on the road quot the internet in youtube\n",
      "  Target: nothing 1000 it the they i can not bad before\n",
      "\n",
      "Transformer Examples:\n",
      "Example 1:\n",
      "  Input: school before it s not\n",
      "  Pred: at all, or if the school wanted to do so.\n",
      "  Target: that bad really\n",
      "\n",
      "Example 2:\n",
      "  Input: sufi family love you all\n",
      "  Pred: ! but i have to admit that i am really\n",
      "  Target: sweet dreams of dane xoxoxox\n",
      "\n",
      "\n",
      "=== RECOMMENDATIONS ===\n",
      "The LSTM model shows competitive performance.\n",
      "Recommendation: Use the LSTM model for better memory efficiency on mobile devices.\n"
     ]
    },
    {
     "name": "stderr",
     "output_type": "stream",
     "text": [
      "\n"
     ]
    }
   ],
   "source": [
    "import sys\n",
    "import os\n",
    "sys.path.append('F:/text-autocomplete/src')\n",
    "\n",
    "import torch\n",
    "import pandas as pd\n",
    "import numpy as np\n",
    "from import prepare_dataset\n",
    "from next_token_dataset import NextTokenDataset\n",
    "from lstm_model import LSTMAutoComplete\n",
    "from lstm_train import train_model\n",
    "from eval_lstm import calculate_rouge_lstm\n",
    "from eval_transformer_pipeline import evaluate_transformer\n",
    "from torch.utils.data import DataLoader\n",
    "\n",
    "print(\"Этап 1: Подготовка данных\")\n",
    "train_df, val_df, test_df = prepare_dataset(\n",
    "    \"F:/text-autocomplete/data/tweets.txt\",\n",
    "    \"F:/text-autocomplete/data\"\n",
    ")\n",
    "\n",
    "print(\"Этап 2: Обучение модели LSTM\")\n",
    "device = torch.device('cuda' if torch.cuda.is_available() else 'cpu')\n",
    "\n",
    "train_dataset = NextTokenDataset('F:/text-autocomplete/data/train.csv')\n",
    "val_dataset = NextTokenDataset('F:/text-autocomplete/data/val.csv')\n",
    "\n",
    "train_loader = DataLoader(train_dataset, batch_size=256, shuffle=True)\n",
    "val_loader = DataLoader(val_dataset, batch_size=256, shuffle=False)\n",
    "\n",
    "model = LSTMAutoComplete(\n",
    "    vocab_size=train_dataset.vocab_size,\n",
    "    embedding_dim=128,\n",
    "    hidden_dim=128,\n",
    "    num_layers=2\n",
    ").to(device)\n",
    "\n",
    "trained_model, train_losses, val_rouge_scores = train_model(\n",
    "    model, train_loader, val_loader, train_dataset.vocab, device\n",
    ")\n",
    "\n",
    "print(\"Этап 3: Оценка модели LST\")\n",
    "test_dataset = NextTokenDataset('F:/text-autocomplete/data/test.csv')\n",
    "test_loader = DataLoader(test_dataset, batch_size=256, shuffle=False)\n",
    "\n",
    "rouge1_lstm, rouge2_lstm, lstm_examples = calculate_rouge_lstm(\n",
    "    trained_model, test_loader, train_dataset.vocab, device\n",
    ")\n",
    "\n",
    "print(f\"LSTM Test Results:\")\n",
    "print(f\"ROUGE-1: {rouge1_lstm:.4f}\")\n",
    "print(f\"ROUGE-2: {rouge2_lstm:.4f}\")\n",
    "\n",
    "print(\"Этап 4: Оценка модели Transformer\")\n",
    "rouge1_transformer, rouge2_transformer, transformer_examples = evaluate_transformer()\n",
    "\n",
    "print(\"Этап 5: Сравнение и выводы\")\n",
    "\n",
    "print(\"\\nСравнение результатов\")\n",
    "print(f\"LSTM Model:\")\n",
    "print(f\"  ROUGE-1: {rouge1_lstm:.4f}\")\n",
    "print(f\"  ROUGE-2: {rouge2_lstm:.4f}\")\n",
    "\n",
    "print(f\"\\nTransformer Model (distilgpt2):\")\n",
    "print(f\"  ROUGE-1: {rouge1_transformer:.4f}\")\n",
    "print(f\"  ROUGE-2: {rouge2_transformer:.4f}\")\n",
    "\n",
    "print(\"\\nПример сравнения\")\n",
    "print(\"LSTM Examples:\")\n",
    "for i, (input_tokens, pred_tokens, target_tokens) in enumerate(lstm_examples[:2]):\n",
    "    print(f\"Example {i+1}:\")\n",
    "    print(f\"  Input: {' '.join(input_tokens)}\")\n",
    "    print(f\"  Pred: {' '.join(pred_tokens)}\")\n",
    "    print(f\"  Target: {' '.join(target_tokens)}\")\n",
    "    print()\n",
    "\n",
    "print(\"Transformer Examples:\")\n",
    "for i, (input_tokens, pred_tokens, target_tokens) in enumerate(transformer_examples[:2]):\n",
    "    print(f\"Example {i+1}:\")\n",
    "    print(f\"  Input: {' '.join(input_tokens[-5:])}\")\n",
    "    print(f\"  Pred: {' '.join(pred_tokens)}\")\n",
    "    print(f\"  Target: {' '.join(target_tokens[:10])}\")\n",
    "    print()\n",
    "\n",
    "print(\"\\nРекомендации\")\n",
    "if rouge1_transformer > rouge1_lstm:\n",
    "    print(\"Модель Transformer показывает лучшие результаты по показателям ROUGE.\")\n",
    "    print(\"Рекомендация: Используйте модель Transformer, если позволяют ограничения памяти.\")\n",
    "else:\n",
    "    print(\"Модель LSTM демонстрирует конкурентные характеристики.\")\n",
    "    print(\"Рекомендация: Используйте модель LSTM для повышения эффективности использования памяти на мобильных устройствах.\")"
   ]
  }
 ],
 "metadata": {
  "kernelspec": {
   "display_name": "Python 3",
   "language": "python",
   "name": "python3"
  },
  "language_info": {
   "codemirror_mode": {
    "name": "ipython",
    "version": 3
   },
   "file_extension": ".py",
   "mimetype": "text/x-python",
   "name": "python",
   "nbconvert_exporter": "python",
   "pygments_lexer": "ipython3",
   "version": "3.11.9"
  }
 },
 "nbformat": 4,
 "nbformat_minor": 5
}
